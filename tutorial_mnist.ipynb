{
 "cells": [
  {
   "cell_type": "code",
   "execution_count": null,
   "metadata": {},
   "outputs": [
    {
     "name": "stdout",
     "output_type": "stream",
     "text": [
      "hello world! \n",
      "\n",
      "eta 0.01\n",
      "lr 0.01\n",
      "simple_init_std 1.0\n",
      "n_epoch 1\n",
      "n_worker 0\n",
      "grad_clip_norm 2\n",
      "grad_clip True\n",
      "init_weight_type simple\n",
      "cuda False\n",
      "debug False\n",
      "outf data\n",
      "grad_clip_value 10.0\n",
      "grad_noise False\n",
      "batch_size 1\n",
      "weight_decay 0.01\n",
      "exp_id exp3_sgd\n",
      "gamma 0.55\n",
      "WARNING: You have a CUDA device, so you should probably run with --cuda\n",
      "\n",
      "good luck! \n",
      "\n",
      "Train Epoch: 1  [28500/60000 (48%)]\tLoss: 0.211574875000000000000"
     ]
    }
   ],
   "source": [
    "# Experiment 3\n",
    "# SGD \n",
    "! python3 main.py --batch_size 1 --init_weight_type \"simple\" --exp_id \"exp3_sgd\" --grad_clip --grad_clip_value 10.0 --lr 0.01 --simple_init_std 1.0 --weight_decay 0.01 --n_epoch 1\n"
   ]
  },
  {
   "cell_type": "code",
   "execution_count": null,
   "metadata": {},
   "outputs": [],
   "source": [
    "# experiment 3\n",
    "# SGD w/ noise\n",
    "! python3 main.py --batch_size 1 --grad_noise --eta 0.01 --gamma 0.55 --init_weight_type \"simple\" --exp_id \"exp3_sgd_noise\" --grad_clip --grad_clip_value 10.0 --lr 0.0001 --simple_init_std 1.0 --weight_decay 0.01"
   ]
  },
  {
   "cell_type": "code",
   "execution_count": null,
   "metadata": {},
   "outputs": [],
   "source": [
    "# experiment 5\n",
    "\n",
    "# SGD \n",
    "! python3 main.py --batch_size 1 --grad_clip --grad_clip_value 10.0 --init_weight_type \"good\" --exp_id \"exp5_sgd\" --lr 0.1\n"
   ]
  },
  {
   "cell_type": "code",
   "execution_count": null,
   "metadata": {},
   "outputs": [],
   "source": [
    "# experiment 5\n",
    "\n",
    "# SGD w/ noise\n",
    "! python3 main.py --batch_size 1 --grad_noise --eta 0.01 --grad_clip --grad_clip_value 10.0 --init_weight_type \"good\" --exp_id \"exp5_sgd_noise\" --lr 0.1\n"
   ]
  },
  {
   "cell_type": "code",
   "execution_count": null,
   "metadata": {},
   "outputs": [],
   "source": [
    "# Experiment 6\n",
    "# SGD \n",
    "! python3 main.py --batch_size 1 --grad_clip --grad_clip_value 10.0 --init_weight_type \"bad\" --exp_id \"exp6_sgd\" --lr 0.1 --weight_decay 0.001\n",
    "\n"
   ]
  },
  {
   "cell_type": "code",
   "execution_count": null,
   "metadata": {},
   "outputs": [],
   "source": [
    "# Experiment 6\n",
    "# SGD w/ noise\n",
    "! python3 main.py --batch_size 1 --grad_noise --eta 1.0 --grad_clip --grad_clip_value 10.0 --init_weight_type \"bad\" --exp_id \"exp6_sgd_noise\" --lr 0.1 --weight_decay 0.001"
   ]
  }
 ],
 "metadata": {
  "kernelspec": {
   "display_name": "py35",
   "language": "python",
   "name": "py35"
  },
  "language_info": {
   "codemirror_mode": {
    "name": "ipython",
    "version": 3
   },
   "file_extension": ".py",
   "mimetype": "text/x-python",
   "name": "python",
   "nbconvert_exporter": "python",
   "pygments_lexer": "ipython3",
   "version": "3.5.2"
  }
 },
 "nbformat": 4,
 "nbformat_minor": 2
}
